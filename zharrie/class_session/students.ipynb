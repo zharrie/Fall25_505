{
 "cells": [
  {
   "cell_type": "code",
   "execution_count": null,
   "id": "62d8dd66",
   "metadata": {},
   "outputs": [],
   "source": [
    "import pandas as pd\n",
    "import numpy as np\n",
    "import matplotlib.pyplot as plt"
   ]
  },
  {
   "cell_type": "code",
   "execution_count": null,
   "id": "3932a967",
   "metadata": {},
   "outputs": [],
   "source": [
    "# Read the CSV file into a DataFrame\n",
    "df = pd.read_csv('student_scores.csv')\n",
    "\n",
    "# Display the first few rows\n",
    "print(\"First 5 rows of the dataset:\")\n",
    "print(df.head())"
   ]
  },
  {
   "cell_type": "markdown",
   "id": "e45e15b4",
   "metadata": {},
   "source": [
    "Explore the Dataset Structure"
   ]
  },
  {
   "cell_type": "code",
   "execution_count": null,
   "id": "1ee92540",
   "metadata": {},
   "outputs": [],
   "source": [
    "# Check the shape of the dataset (rows, columns)\n",
    "print(f\"\\nDataset shape: {df.shape}\")\n",
    "\n",
    "# Display column names and data types\n",
    "print(\"\\nDataset information:\")\n",
    "print(df.info())"
   ]
  },
  {
   "cell_type": "code",
   "execution_count": null,
   "id": "aeb2bfd1",
   "metadata": {},
   "outputs": [],
   "source": [
    "# Display basic statistics\n",
    "print(\"\\nBasic statistics:\")\n",
    "print(df.describe())"
   ]
  },
  {
   "cell_type": "markdown",
   "id": "6ed0c29c",
   "metadata": {},
   "source": [
    "Data Analysis Tasks\n",
    "\n",
    "Calculate Average Scores"
   ]
  },
  {
   "cell_type": "code",
   "execution_count": null,
   "id": "24d14377",
   "metadata": {},
   "outputs": [],
   "source": [
    "# Calculate average scores for each subject\n",
    "avg_math = df['math_score'].mean()\n",
    "avg_science = df['science_score'].mean()\n",
    "avg_english = df['english_score'].mean()\n",
    "\n",
    "print(f\"Average Math Score: {avg_math:.2f}\")\n",
    "print(f\"Average Science Score: {avg_science:.2f}\")\n",
    "print(f\"Average English Score: {avg_english:.2f}\")"
   ]
  },
  {
   "cell_type": "markdown",
   "id": "55325c6f",
   "metadata": {},
   "source": [
    "Find Top Performers"
   ]
  },
  {
   "cell_type": "code",
   "execution_count": null,
   "id": "48292b39",
   "metadata": {},
   "outputs": [],
   "source": [
    "# Sort by math_score in descending order and get top 3\n",
    "top_math_students = df.sort_values('math_score', ascending=False).head(3)\n",
    "\n",
    "print(\"\\nTop 3 Math Students:\")\n",
    "print(top_math_students[['name', 'math_score']])"
   ]
  },
  {
   "cell_type": "markdown",
   "id": "11935844",
   "metadata": {},
   "source": [
    "Create a New Column"
   ]
  },
  {
   "cell_type": "code",
   "execution_count": null,
   "id": "026e0d44",
   "metadata": {},
   "outputs": [],
   "source": [
    "# Calculate average score for each student\n",
    "df['average_score'] = (df['math_score'] + df['science_score'] + df['english_score']) / 3\n",
    "\n",
    "print(\"\\nDataFrame with average scores:\")\n",
    "print(df[['name', 'math_score', 'science_score', 'english_score', 'average_score']].head())"
   ]
  },
  {
   "cell_type": "markdown",
   "id": "c23317c3",
   "metadata": {},
   "source": [
    "Filter Students"
   ]
  },
  {
   "cell_type": "code",
   "execution_count": null,
   "id": "07a7efd7",
   "metadata": {},
   "outputs": [],
   "source": [
    "# Filter students with average score > 85 and attendance > 90\n",
    "high_performers = df[(df['average_score'] > 85) & (df['attendance_rate'] > 90)]\n",
    "\n",
    "print(\"\\nHigh Performing Students:\")\n",
    "print(high_performers[['name', 'average_score', 'attendance_rate']])"
   ]
  },
  {
   "cell_type": "markdown",
   "id": "aba13c19",
   "metadata": {},
   "source": [
    "Data Visualization Tasks\n",
    "\n",
    "Create a Bar Chart of Average Scores by Subject"
   ]
  },
  {
   "cell_type": "code",
   "execution_count": null,
   "id": "aa193c75",
   "metadata": {},
   "outputs": [],
   "source": [
    "# Calculate average scores\n",
    "subjects = ['Math', 'Science', 'English']\n",
    "averages = [df['math_score'].mean(), \n",
    "            df['science_score'].mean(), \n",
    "            df['english_score'].mean()]\n",
    "\n",
    "# Create bar chart\n",
    "plt.figure(figsize=(8, 6))\n",
    "plt.bar(subjects, averages, color=['blue', 'green', 'orange'])\n",
    "plt.xlabel('Subject')\n",
    "plt.ylabel('Average Score')\n",
    "plt.title('Average Scores by Subject')\n",
    "plt.ylim(0, 100)\n",
    "\n",
    "# Add value labels on bars\n",
    "for i, v in enumerate(averages):\n",
    "    plt.text(i, v + 1, f'{v:.1f}', ha='center', va='bottom')\n",
    "\n",
    "plt.grid(axis='y', alpha=0.3)\n",
    "plt.show()"
   ]
  },
  {
   "cell_type": "markdown",
   "id": "bf3dd755",
   "metadata": {},
   "source": [
    "Create a Scatter Plot"
   ]
  },
  {
   "cell_type": "code",
   "execution_count": null,
   "id": "00070bde",
   "metadata": {},
   "outputs": [],
   "source": [
    "# Create a scatter plot showing the relationship between hours studied and average score.\n",
    "\n",
    "# Create scatter plot\n",
    "plt.figure(figsize=(10, 6))\n",
    "plt.scatter(df['hours_studied'], df['average_score'], \n",
    "            color='purple', alpha=0.6, s=100)\n",
    "plt.xlabel('Hours Studied per Week')\n",
    "plt.ylabel('Average Score')\n",
    "plt.title('Relationship Between Study Hours and Average Score')\n",
    "plt.grid(True, alpha=0.3)\n",
    "\n",
    "# Add a trend line (optional)\n",
    "z = np.polyfit(df['hours_studied'], df['average_score'], 1)\n",
    "p = np.poly1d(z)\n",
    "plt.plot(df['hours_studied'], p(df['hours_studied']), \n",
    "         \"r--\", alpha=0.8, label='Trend Line')\n",
    "plt.legend()\n",
    "\n",
    "plt.show()"
   ]
  },
  {
   "cell_type": "markdown",
   "id": "8c675561",
   "metadata": {},
   "source": [
    "Create Multiple Subplots"
   ]
  },
  {
   "cell_type": "code",
   "execution_count": null,
   "id": "2720b982",
   "metadata": {},
   "outputs": [],
   "source": [
    "# Create a figure with 3 subplots showing histograms for Math, Science, and English scores.\n",
    "# Create figure with 3 subplots\n",
    "fig, axes = plt.subplots(1, 3, figsize=(15, 5))\n",
    "\n",
    "# Math scores histogram\n",
    "axes[0].hist(df['math_score'], bins=8, color='blue', alpha=0.7, edgecolor='black')\n",
    "axes[0].set_xlabel('Score')\n",
    "axes[0].set_ylabel('Number of Students')\n",
    "axes[0].set_title('Math Scores')\n",
    "axes[0].grid(axis='y', alpha=0.3)\n",
    "\n",
    "# Science scores histogram\n",
    "axes[1].hist(df['science_score'], bins=8, color='green', alpha=0.7, edgecolor='black')\n",
    "axes[1].set_xlabel('Score')\n",
    "axes[1].set_ylabel('Number of Students')\n",
    "axes[1].set_title('Science Scores')\n",
    "axes[1].grid(axis='y', alpha=0.3)\n",
    "\n",
    "# English scores histogram\n",
    "axes[2].hist(df['english_score'], bins=8, color='orange', alpha=0.7, edgecolor='black')\n",
    "axes[2].set_xlabel('Score')\n",
    "axes[2].set_ylabel('Number of Students')\n",
    "axes[2].set_title('English Scores')\n",
    "axes[2].grid(axis='y', alpha=0.3)\n",
    "\n",
    "plt.suptitle('Score Distribution by Subject', fontsize=16)\n",
    "plt.tight_layout()\n",
    "plt.show()"
   ]
  }
 ],
 "metadata": {
  "language_info": {
   "name": "python"
  }
 },
 "nbformat": 4,
 "nbformat_minor": 5
}
